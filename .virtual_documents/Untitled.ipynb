import pandas


import fiona


import covidtracker as ct


df = ct.get_covid_data.get_covid_data()


ct.get_covid_data.get_covid_data()
